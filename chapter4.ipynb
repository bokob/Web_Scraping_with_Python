{
 "cells": [
  {
   "cell_type": "code",
   "execution_count": 6,
   "metadata": {},
   "outputs": [
    {
     "ename": "AttributeError",
     "evalue": "'NoneType' object has no attribute 'text'",
     "output_type": "error",
     "traceback": [
      "\u001b[1;31m---------------------------------------------------------------------------\u001b[0m",
      "\u001b[1;31mAttributeError\u001b[0m                            Traceback (most recent call last)",
      "\u001b[1;32mc:\\Users\\bmc05\\Desktop\\크롤링\\chapter4.ipynb 셀 1\u001b[0m in \u001b[0;36m<cell line: 34>\u001b[1;34m()\u001b[0m\n\u001b[0;32m     <a href='vscode-notebook-cell:/c%3A/Users/bmc05/Desktop/%ED%81%AC%EB%A1%A4%EB%A7%81/chapter4.ipynb#W0sZmlsZQ%3D%3D?line=27'>28</a>\u001b[0m     \u001b[39mreturn\u001b[39;00m Content(url, title, body)\n\u001b[0;32m     <a href='vscode-notebook-cell:/c%3A/Users/bmc05/Desktop/%ED%81%AC%EB%A1%A4%EB%A7%81/chapter4.ipynb#W0sZmlsZQ%3D%3D?line=29'>30</a>\u001b[0m url\u001b[39m=\u001b[39m\u001b[39m'''\u001b[39m\n\u001b[0;32m     <a href='vscode-notebook-cell:/c%3A/Users/bmc05/Desktop/%ED%81%AC%EB%A1%A4%EB%A7%81/chapter4.ipynb#W0sZmlsZQ%3D%3D?line=30'>31</a>\u001b[0m \u001b[39mhttps://www.brookings.edu/blog/future-development/2018/01/26/\u001b[39m\n\u001b[0;32m     <a href='vscode-notebook-cell:/c%3A/Users/bmc05/Desktop/%ED%81%AC%EB%A1%A4%EB%A7%81/chapter4.ipynb#W0sZmlsZQ%3D%3D?line=31'>32</a>\u001b[0m \u001b[39mdelivering-inclusive-urban-access-3-uncomfortable-truths/\u001b[39m\n\u001b[0;32m     <a href='vscode-notebook-cell:/c%3A/Users/bmc05/Desktop/%ED%81%AC%EB%A1%A4%EB%A7%81/chapter4.ipynb#W0sZmlsZQ%3D%3D?line=32'>33</a>\u001b[0m \u001b[39m'''\u001b[39m\n\u001b[1;32m---> <a href='vscode-notebook-cell:/c%3A/Users/bmc05/Desktop/%ED%81%AC%EB%A1%A4%EB%A7%81/chapter4.ipynb#W0sZmlsZQ%3D%3D?line=33'>34</a>\u001b[0m content\u001b[39m=\u001b[39mscrapeBrookings(url)\n\u001b[0;32m     <a href='vscode-notebook-cell:/c%3A/Users/bmc05/Desktop/%ED%81%AC%EB%A1%A4%EB%A7%81/chapter4.ipynb#W0sZmlsZQ%3D%3D?line=34'>35</a>\u001b[0m \u001b[39mprint\u001b[39m(\u001b[39m'\u001b[39m\u001b[39mTitle: \u001b[39m\u001b[39m{}\u001b[39;00m\u001b[39m'\u001b[39m\u001b[39m.\u001b[39mformat(content\u001b[39m.\u001b[39mtitle))\n\u001b[0;32m     <a href='vscode-notebook-cell:/c%3A/Users/bmc05/Desktop/%ED%81%AC%EB%A1%A4%EB%A7%81/chapter4.ipynb#W0sZmlsZQ%3D%3D?line=35'>36</a>\u001b[0m \u001b[39mprint\u001b[39m(\u001b[39m'\u001b[39m\u001b[39mURL: \u001b[39m\u001b[39m{}\u001b[39;00m\u001b[39m\\n\u001b[39;00m\u001b[39m'\u001b[39m\u001b[39m.\u001b[39mformat(content\u001b[39m.\u001b[39murl))\n",
      "\u001b[1;32mc:\\Users\\bmc05\\Desktop\\크롤링\\chapter4.ipynb 셀 1\u001b[0m in \u001b[0;36mscrapeBrookings\u001b[1;34m(url)\u001b[0m\n\u001b[0;32m     <a href='vscode-notebook-cell:/c%3A/Users/bmc05/Desktop/%ED%81%AC%EB%A1%A4%EB%A7%81/chapter4.ipynb#W0sZmlsZQ%3D%3D?line=24'>25</a>\u001b[0m bs \u001b[39m=\u001b[39m getPage(url)\n\u001b[0;32m     <a href='vscode-notebook-cell:/c%3A/Users/bmc05/Desktop/%ED%81%AC%EB%A1%A4%EB%A7%81/chapter4.ipynb#W0sZmlsZQ%3D%3D?line=25'>26</a>\u001b[0m title \u001b[39m=\u001b[39m bs\u001b[39m.\u001b[39mfind(\u001b[39m'\u001b[39m\u001b[39mh1\u001b[39m\u001b[39m'\u001b[39m)\u001b[39m.\u001b[39mtext\n\u001b[1;32m---> <a href='vscode-notebook-cell:/c%3A/Users/bmc05/Desktop/%ED%81%AC%EB%A1%A4%EB%A7%81/chapter4.ipynb#W0sZmlsZQ%3D%3D?line=26'>27</a>\u001b[0m body \u001b[39m=\u001b[39m bs\u001b[39m.\u001b[39;49mfind(\u001b[39m'\u001b[39;49m\u001b[39mdiv\u001b[39;49m\u001b[39m'\u001b[39;49m, {\u001b[39m'\u001b[39;49m\u001b[39mclass\u001b[39;49m\u001b[39m'\u001b[39;49m, \u001b[39m'\u001b[39;49m\u001b[39mpost-body\u001b[39;49m\u001b[39m'\u001b[39;49m})\u001b[39m.\u001b[39;49mtext\n\u001b[0;32m     <a href='vscode-notebook-cell:/c%3A/Users/bmc05/Desktop/%ED%81%AC%EB%A1%A4%EB%A7%81/chapter4.ipynb#W0sZmlsZQ%3D%3D?line=27'>28</a>\u001b[0m \u001b[39mreturn\u001b[39;00m Content(url, title, body)\n",
      "\u001b[1;31mAttributeError\u001b[0m: 'NoneType' object has no attribute 'text'"
     ]
    }
   ],
   "source": [
    "# 챕터 4\n",
    "# 내게 필요한 데이터가 무엇인지 생각하고 시작한다.\n",
    "\n",
    "import requests\n",
    "from bs4 import BeautifulSoup\n",
    "\n",
    "class Content:\n",
    "    def __init__(self, url, title, body):\n",
    "        self.url = url\n",
    "        self.title = title\n",
    "        self.body = body\n",
    "    \n",
    "def getPage(url):\n",
    "    req = requests.get(url)\n",
    "    return BeautifulSoup(req.text, 'html.parser')\n",
    "\n",
    "def scrapeNYTimes(url):\n",
    "    bs = getPage(url)\n",
    "    title = bs.find('h1').text\n",
    "    lines = bs.select('div.StoryBodyCompanionCoulmn div p')\n",
    "    body = '\\n'.join([line.text for line in lines])\n",
    "    return Content(url, title, body)\n",
    "\n",
    "def scrapeBrookings(url):\n",
    "    bs = getPage(url)\n",
    "    title = bs.find('h1').text\n",
    "    body = bs.find('div', {'class', 'post-body'}).text\n",
    "    return Content(url, title, body)\n",
    "    \n",
    "url='''\n",
    "https://www.brookings.edu/blog/future-development/2018/01/26/\n",
    "delivering-inclusive-urban-access-3-uncomfortable-truths/\n",
    "'''\n",
    "content=scrapeBrookings(url)\n",
    "print('Title: {}'.format(content.title))\n",
    "print('URL: {}\\n'.format(content.url))\n",
    "print(content.body)\n",
    "\n",
    "url='''\n",
    "https://www.nytimes.com/2018/01/25/\n",
    "opinion/sunday/silicon-valley-immortality.html\n",
    "'''\n",
    "content = scrapeNYTimes(url)\n",
    "print('Title: {}'.format(content.title))\n",
    "print('URL: {}'.format(content.url))\n",
    "print(content.body)"
   ]
  },
  {
   "cell_type": "code",
   "execution_count": null,
   "metadata": {},
   "outputs": [],
   "source": []
  }
 ],
 "metadata": {
  "kernelspec": {
   "display_name": "Python 3",
   "language": "python",
   "name": "python3"
  },
  "language_info": {
   "codemirror_mode": {
    "name": "ipython",
    "version": 3
   },
   "file_extension": ".py",
   "mimetype": "text/x-python",
   "name": "python",
   "nbconvert_exporter": "python",
   "pygments_lexer": "ipython3",
   "version": "3.10.5"
  },
  "orig_nbformat": 4,
  "vscode": {
   "interpreter": {
    "hash": "88f5a4554b5a9ef949b5de2ca977b5a4bd361180c5b30f32147c76c2c5bcf452"
   }
  }
 },
 "nbformat": 4,
 "nbformat_minor": 2
}
